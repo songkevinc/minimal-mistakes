{
 "cells": [
  {
   "cell_type": "markdown",
   "metadata": {},
   "source": [
    "# Using ffmpeg to make plot movies"
   ]
  },
  {
   "cell_type": "code",
   "execution_count": 3,
   "metadata": {
    "collapsed": true
   },
   "outputs": [],
   "source": [
    "def video(fname, mimetype):\n",
    "    from IPython.display import HTML\n",
    "    video_encoded = open(fname, \"rb\").read().encode(\"base64\")\n",
    "    video_tag = '<video controls alt=\"test\" src=\"data:video/{0};base64,{1}\">'.format(mimetype, video_encoded)\n",
    "    return HTML(data=video_tag)"
   ]
  },
  {
   "cell_type": "markdown",
   "metadata": {},
   "source": [
    "video(\"https://songkevinc.github.io/images/t"
   ]
  },
  {
   "cell_type": "markdown",
   "metadata": {},
   "source": [
    "`ffmpeg -framerate 24 -i img1_name_%03d.png\\\n",
    "       -framerate 24 -i img2_name.%05d.tga\\\n",
    "       -c:v libx264 -vcodec libx264 -pix_fmt yuv420p\\\n",
    "       -preset slow -crf 18\\\n",
    "       -filter_complex \"[0:v]scale=768:512 [left] ;[1:v]scale=512:512 [right]; [left][right]           hstack\" final_image_name.mp4`"
   ]
  },
  {
   "cell_type": "markdown",
   "metadata": {},
   "source": []
  },
  {
   "cell_type": "markdown",
   "metadata": {},
   "source": [
    "\n",
    "-framerate 24\n",
    "You can change this to speed up or slow down your movie. The output framerate is given by the -r option.\n",
    "-c:v libx264\n",
    "Use H.264 to encode your movie. This is a good, well-supported encoding that seems to be everyoneâ€™s favorite.\n",
    "-preset slow\n",
    "Try hard to reduce the file size. Itâ€™s not that slow.\n",
    "-crf 18\n",
    "â€œQualityâ€. This means essentially lossless. Higher is worse. ffmpeg documentation here and explanation here.\n",
    "-r 24\n",
    "Output frame rate. If you are speeding up your rendered frames with -framerate > 24, make sure you set this or your movie will look jittery in Powerpoint."
   ]
  }
 ],
 "metadata": {
  "kernelspec": {
   "display_name": "Python 2",
   "language": "python",
   "name": "python2"
  },
  "language_info": {
   "codemirror_mode": {
    "name": "ipython",
    "version": 2
   },
   "file_extension": ".py",
   "mimetype": "text/x-python",
   "name": "python",
   "nbconvert_exporter": "python",
   "pygments_lexer": "ipython2",
   "version": "2.7.13"
  }
 },
 "nbformat": 4,
 "nbformat_minor": 2
}
